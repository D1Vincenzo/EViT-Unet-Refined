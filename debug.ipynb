{
 "cells": [
  {
   "cell_type": "code",
   "execution_count": 5,
   "metadata": {},
   "outputs": [
    {
     "name": "stdout",
     "output_type": "stream",
     "text": [
      "/home/hxy/miniconda3/envs/evit-unet/lib/python3.10/site-packages/timm/models/layers/__init__.py:48: FutureWarning: Importing from timm.models.layers is deprecated, please import via timm.layers\n",
      "  warnings.warn(f\"Importing from {__name__} is deprecated, please import via timm.layers\", FutureWarning)\n",
      "/home/hxy/miniconda3/envs/evit-unet/lib/python3.10/site-packages/timm/models/registry.py:4: FutureWarning: Importing from timm.models.registry is deprecated, please import via timm.models\n",
      "  warnings.warn(f\"Importing from {__name__} is deprecated, please import via timm.models\", FutureWarning)\n",
      "Namespace(root_path='data/Synapse/train_npz', dataset='Synapse', list_dir='./lists/lists_Synapse', num_classes=9, output_dir='runs/evit_unet', max_iterations=30000, max_epochs=10, batch_size=8, n_gpu=1, deterministic=1, base_lr=0.002, img_size=224, seed=1234, opts=None, zip=False, cache_mode='part', resume=None, accumulation_steps=None, use_checkpoint=False, amp_opt_level='O1', tag=None, eval=False, throughput=False, gpu_id=0, lambda_x=0.015, dino_weight=0.3, alpha=20.0, sigma=5.0, val_list='lists/lists_Synapse/val.txt')\n",
      "🧪 Epoch 0 Validation Dice: 0.2522                                    \n",
      "🧪 Epoch 1 Validation Dice: 0.1744                                    \n",
      "🧪 Epoch 2 Validation Dice: 0.3236                                    \n",
      "🧪 Epoch 3 Validation Dice: 0.2358                                    \n",
      "🧪 Epoch 4 Validation Dice: 0.2657                                    \n",
      "🧪 Epoch 5 Validation Dice: 0.2146                                    \n",
      "🧪 Epoch 6 Validation Dice: 0.2380                                    \n",
      "🧪 Epoch 7 Validation Dice: 0.2407                                    \n",
      "🧪 Epoch 8 Validation Dice: 0.2338                                    \n",
      "🧪 Epoch 9 Validation Dice: 0.2304                                    \n",
      "100%|█████████████████████████████████| 10/10 [15:13<00:00, 91.38s/it]\n",
      "🏆 Saved best model: epoch 9, dice 0.2304, to runs/evit_unet/best_model.pth\n"
     ]
    }
   ],
   "source": [
    "! python train_unetKD.py   --root_path data/Synapse   --output_dir runs/evit_unet   --batch_size 8   --max_epochs 10   --img_size 224 --val_list lists/lists_Synapse/val.txt"
   ]
  },
  {
   "cell_type": "code",
   "execution_count": null,
   "metadata": {},
   "outputs": [],
   "source": [
    "! python train_unetKD.py   --root_path data/Synapse   --output_dir runs/evit_unet   --batch_size 8   --max_epochs 101   --img_size 224 --resume runs/evit_unet/epoch_68.pth"
   ]
  },
  {
   "cell_type": "code",
   "execution_count": null,
   "metadata": {},
   "outputs": [],
   "source": [
    "! python test_diy.py \\\n",
    "  --model_path runs/evit_unet/epoch_20.pth \\\n",
    "  --test_dir data/Synapse/test_vol_h5 \\\n",
    "  --save_pred predictions \\\n",
    "  --ref_dir datasets/RawData/Training/label \\\n",
    "  --img_size 224 \\\n",
    "  --num_classes 9\n"
   ]
  },
  {
   "cell_type": "code",
   "execution_count": null,
   "metadata": {},
   "outputs": [],
   "source": [
    "! python test_fast.py \\\n",
    "  --model_path runs/evit_unet/epoch_68.pth \\\n",
    "  --test_dir data/Synapse/test_vol_h5 \\\n",
    "  --save_pred predictions/fast \\\n",
    "  --ref_dir datasets/RawData/Training/label \\\n",
    "  --img_size 224 \\\n",
    "  --num_classes 9 \\\n",
    "  --batch_size 256\n"
   ]
  },
  {
   "cell_type": "code",
   "execution_count": null,
   "metadata": {},
   "outputs": [],
   "source": [
    "import nibabel as nib\n",
    "import numpy as np\n",
    "\n",
    "seg = nib.load('datasets/RawData/Training/label/label0001.nii.gz')\n",
    "# seg = nib.load('datasets/RawData/Training/img/img0001.nii.gz')\n",
    "label_data = seg.get_fdata()\n",
    "print(\"Unique classes in .nii.gz:\", np.unique(label_data))\n"
   ]
  },
  {
   "cell_type": "code",
   "execution_count": null,
   "metadata": {},
   "outputs": [],
   "source": [
    "import nibabel as nib\n",
    "import numpy as np\n",
    "import matplotlib.pyplot as plt\n",
    "\n",
    "# 加载 .nii.gz 文件（标签）\n",
    "seg_path = 'datasets/RawData/Training/label/label0037.nii.gz'\n",
    "seg_nifti = nib.load(seg_path)\n",
    "seg_data = seg_nifti.get_fdata().astype(np.uint8)\n",
    "\n",
    "# 打印标签种类\n",
    "print(\"Unique labels:\", np.unique(seg_data))\n",
    "\n",
    "# 显示中间某一张切片（沿 z 轴）\n",
    "slice_idx = 9\n",
    "print(\"Slice index:\", slice_idx)\n",
    "plt.figure(figsize=(8, 6))\n",
    "plt.imshow(seg_data[:, :, slice_idx], cmap='nipy_spectral')\n",
    "plt.title(f\"Label Slice {slice_idx}\")\n",
    "plt.colorbar()\n",
    "plt.show()\n"
   ]
  },
  {
   "cell_type": "code",
   "execution_count": null,
   "metadata": {},
   "outputs": [],
   "source": [
    "import numpy as np\n",
    "import SimpleITK as sitk\n",
    "\n",
    "# 路径\n",
    "pred_path = \"predictions/img0001_pred.nii.gz\"\n",
    "ref_path = \"datasets/RawData/Training/label/label0001.nii.gz\"\n",
    "output_path = \"predictions/label0001_pred_fixed.nii.gz\"\n",
    "\n",
    "# 读取预测与参考图像\n",
    "pred_img = sitk.ReadImage(pred_path)\n",
    "ref_img = sitk.ReadImage(ref_path)\n",
    "\n",
    "# 转为 numpy 数组\n",
    "pred_array = sitk.GetArrayFromImage(pred_img)  # [D, H, W]\n",
    "\n",
    "# === 方向修正逻辑 ===\n",
    "# Step 1: 对每一层做旋转（顺时针90°）+ 水平反转\n",
    "for i in range(pred_array.shape[0]):\n",
    "    pred_array[i] = np.fliplr(np.rot90(pred_array[i], k=3))\n",
    "\n",
    "# # Step 2: 修正层顺序（Z 轴翻转）\n",
    "# pred_array = pred_array[::-1, :, :]\n",
    "\n",
    "# === 保存为 NIfTI 并复用标签的 header ===\n",
    "fixed_img = sitk.GetImageFromArray(pred_array.astype(np.uint8))\n",
    "fixed_img.SetSpacing(ref_img.GetSpacing())\n",
    "fixed_img.SetOrigin(ref_img.GetOrigin())\n",
    "fixed_img.SetDirection(ref_img.GetDirection())\n",
    "\n",
    "sitk.WriteImage(fixed_img, output_path)\n",
    "print(\"✅ 修正完成并保存:\", output_path)"
   ]
  }
 ],
 "metadata": {
  "kernelspec": {
   "display_name": "evit-unet",
   "language": "python",
   "name": "python3"
  },
  "language_info": {
   "codemirror_mode": {
    "name": "ipython",
    "version": 3
   },
   "file_extension": ".py",
   "mimetype": "text/x-python",
   "name": "python",
   "nbconvert_exporter": "python",
   "pygments_lexer": "ipython3",
   "version": "3.10.16"
  }
 },
 "nbformat": 4,
 "nbformat_minor": 2
}
